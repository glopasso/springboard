{
 "cells": [
  {
   "cell_type": "markdown",
   "metadata": {
    "colab_type": "text",
    "id": "bmKQnCq_fK6e"
   },
   "source": [
    "## Part 2 ‐ Experiment and metrics design\n",
    "The neighboring cities of Gotham and Metropolis have complementary circadian rhythms: on\n",
    "weekdays, Ultimate Gotham is most active at night, and Ultimate Metropolis is most active\n",
    "during the day. On weekends, there is reasonable activity in both cities.\n",
    "However, a toll bridge, with a two ­way toll, between the two cities causes driver partners to tend\n",
    "to be exclusive to each city. The Ultimate managers of city operations for the two cities have\n",
    "proposed an experiment to encourage driver partners to be available in both cities, by\n",
    "reimbursing all toll costs.\n",
    "\n",
    "1. What would you choose as the key measure of success of this experiment in\n",
    "encouraging driver partners to serve both cities, and why would you choose this metric?\n",
    "2. Describe a practical experiment you would design to compare the effectiveness of the\n",
    "proposed change in relation to the key measure of success. Please provide details on:\n",
    "\n",
    "- a. how you will implement the experiment\n",
    "- b. what statistical test(s) you will conduct to verify the significance of the\n",
    "observation\n",
    "- c. how you would interpret the results and provide recommendations to the city\n",
    "operations team along with any caveats."
   ]
  },
  {
   "cell_type": "markdown",
   "metadata": {
    "colab_type": "text",
    "id": "fQmjZjqlja_F"
   },
   "source": [
    "### Answer to Part2:\n",
    "A.1:\n",
    "The experiment would be to select specific drive partners, apply the reimursement toll policy to them, check if they are working at night in Ultimate Gotham and during the day in Ultimate Metropolis. So the metric would be length of time working in Metropolis and in Gotham, measured during both day and night periods, for each drive partner individually.\n",
    "\n",
    "\n"
   ]
  },
  {
   "cell_type": "markdown",
   "metadata": {
    "colab_type": "text",
    "id": "r9gA-sE-mg3o"
   },
   "source": [
    "| Length of working time (min)     | Day (6 a.m. to 6 p.m)| Night (6 p.m to 6 a.m)     |\n",
    "| :---        |    :----:   |          ---: |\n",
    "| at Gotham      | 20 min       | 230 min  |\n",
    "| at Metropolis   | 220 min        | 40 min      |"
   ]
  },
  {
   "cell_type": "markdown",
   "metadata": {
    "colab_type": "text",
    "id": "OzQwViRHnv-r"
   },
   "source": [
    "A.2: The experiment should focus on two specific groups of drive partners that would be sensitive to the toll reimbursement:\n",
    "1. Metropolis drivers who use to work at night\n",
    "2. Gotham drivers who use to work during the day \n",
    "\n",
    "We would identify theses groups and split each one into two sub-groups: one allowed to reimburse toll expenses and the other with no allowance (i.e. the current policy), serving as a control subgroup. In this way, we would verify if the length of working time would shift from a city to the other for the subgroup exposed to the toll reimbusement policy.\n",
    "\n",
    "We apply A/B Tests to the groups 1 and 2, and would use the Welch's t-test,  which is a variance of Student's t-test. The test would be applicable to the average lenght of time working in the neighboring city. So, for each group we would compare:\n",
    "Group 1. Metropolis drivers who use to work at night. If the Metropolis drivers tested had an average length time working at Gotham significantly higher vs. the control subgroup.\n",
    "Group 2. Gotham drivers who use to work during the day. If the Gotham drivers tested had an average length time working at Metropolis significantly higher vs. the control subgroup.\n",
    "To determine the significance we could use an confidence level of 98%\n",
    "\n",
    "So if the tests result positive we would conclude that the policy is effective to estimulate drivers to cross the bridge and serve the city with higher demand. It is possible that the tests result differently for the two groups, for instance, Metropolis drivers would go to Gotham at night, but Gotham drivers would not go to Metropolis during the day.\n",
    "\n",
    "The caveats of this analysis is that it does not address possible collateral effects of the policy, such as drivers migrating to the other city and ending up underserving their original city."
   ]
  }
 ],
 "metadata": {
  "colab": {
   "collapsed_sections": [],
   "name": "Ulimate_challenge .ipynb",
   "provenance": [],
   "version": "0.3.2"
  },
  "kernelspec": {
   "display_name": "Python 3",
   "language": "python",
   "name": "python3"
  },
  "language_info": {
   "codemirror_mode": {
    "name": "ipython",
    "version": 3
   },
   "file_extension": ".py",
   "mimetype": "text/x-python",
   "name": "python",
   "nbconvert_exporter": "python",
   "pygments_lexer": "ipython3",
   "version": "3.7.3"
  }
 },
 "nbformat": 4,
 "nbformat_minor": 1
}
