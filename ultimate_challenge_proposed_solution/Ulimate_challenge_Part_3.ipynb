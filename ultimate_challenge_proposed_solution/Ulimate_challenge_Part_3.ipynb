{
 "cells": [
  {
   "cell_type": "markdown",
   "metadata": {
    "colab_type": "text",
    "id": "zgcajD0WVM5h"
   },
   "source": [
    "# Preparation to work with Google Colab"
   ]
  },
  {
   "cell_type": "code",
   "execution_count": 2,
   "metadata": {
    "colab": {
     "base_uri": "https://localhost:8080/",
     "height": 35
    },
    "colab_type": "code",
    "id": "zLaUrtvgBqpE",
    "outputId": "72229812-a70e-46a1-b8c1-4f6b8fcfcb33"
   },
   "outputs": [
    {
     "name": "stdout",
     "output_type": "stream",
     "text": [
      "Drive already mounted at /content/drive; to attempt to forcibly remount, call drive.mount(\"/content/drive\", force_remount=True).\n"
     ]
    }
   ],
   "source": [
    "#Mount google drive as your hardisk\n",
    "from os.path import join\n",
    "from google.colab import drive\n",
    "\n",
    "ROOT = \"/content/drive\"\n",
    "drive.mount(ROOT)"
   ]
  },
  {
   "cell_type": "code",
   "execution_count": 0,
   "metadata": {
    "colab": {},
    "colab_type": "code",
    "id": "anOBDIlHB2N1"
   },
   "outputs": [],
   "source": [
    "PROJECT_PATH = '/content/drive/My Drive/Springboard/Take_home_assignment_1/ultimate_challenge/'"
   ]
  },
  {
   "cell_type": "code",
   "execution_count": 0,
   "metadata": {
    "colab": {},
    "colab_type": "code",
    "id": "nVhASLs1B55l"
   },
   "outputs": [],
   "source": [
    "import pandas as pd\n",
    "import numpy as np\n",
    "import matplotlib.pyplot as plt\n",
    "import re\n",
    "import time\n",
    "import pickle\n",
    "import json\n",
    "import urllib.request"
   ]
  },
  {
   "cell_type": "markdown",
   "metadata": {
    "colab_type": "text",
    "id": "gugHvzwE1i7m"
   },
   "source": [
    "# Part 3 ‐ Predictive modeling\n",
    "Ultimate is interested in predicting rider retention. To help explore this question, we have\n",
    "provided a sample dataset of a cohort of users who signed up for an Ultimate account inJanuary 2014. The data was pulled several months later; we consider a user retained if they\n",
    "were “active” (i.e. took a trip) in the preceding 30 days.\n",
    "We would like you to use this data set to help understand what factors are the best predictors\n",
    "for retention, and offer suggestions to operationalize those insights to help Ultimate.\n",
    "The data is in the attached file ultimate_data_challenge.json. See below for a detailed\n",
    "description of the dataset. Please include any code you wrote for the analysis and delete the\n",
    "dataset when you have finished with the challenge.\n",
    "1. Perform any cleaning, exploratory analysis, and/or visualizations to use the provided\n",
    "data for this analysis (a few sentences/plots describing your approach will suffice). What\n",
    "fraction of the observed users were retained?\n",
    "2. Build a predictive model to help Ultimate determine whether or not a user will be active\n",
    "in their 6th month on the system. Discuss why you chose your approach, what\n",
    "alternatives you considered, and any concerns you have. How valid is your model?\n",
    "Include any key indicators of model performance.\n",
    "3. Briefly discuss how Ultimate might leverage the insights gained from the model to\n",
    "improve its long­ term rider retention (again, a few sentences will suffice).\n",
    "Data description\n",
    "\n",
    "- city: city this user signed up in\n",
    "- phone: primary device for this user\n",
    "- signup_date: date of account registration; in the form ‘YYYY MM DD’\n",
    "- last_trip_date: the last time this user completed a trip; in the form ‘YYYY MM DD’\n",
    "- avg_dist: the average distance in miles per trip taken in the first 30 days after signup\n",
    "- avg_rating_by_driver: the rider’s average rating over all of their trips\n",
    "- avg_rating_of_driver: the rider’s average rating of their drivers over all of their trips\n",
    "- surge_pct: the percent of trips taken with surge multiplier > 1\n",
    "- avg_surge: The average surge multiplier over all of this user’s trips\n",
    "- trips_in_first_30_days: the number of trips this user took in the first 30 days after\n",
    "signing up\n",
    "- ultimate_black_user: TRUE if the user took an Ultimate Black in their first 30 days;\n",
    "FALSE otherwise\n",
    "- weekday_pct: the percent of the user’s trips occurring during a weekday"
   ]
  },
  {
   "cell_type": "markdown",
   "metadata": {
    "colab_type": "text",
    "id": "MqeOT-NJG8ct"
   },
   "source": [
    "### Analysis for question 1"
   ]
  },
  {
   "cell_type": "code",
   "execution_count": 0,
   "metadata": {
    "colab": {},
    "colab_type": "code",
    "id": "cjfdQBRk2E5q"
   },
   "outputs": [],
   "source": [
    "# load the login data\n",
    "FILE = 'ultimate_data_challenge.json'\n",
    "with open(PROJECT_PATH +  FILE) as json_file:\n",
    "    data_challenge = json.load(json_file)\n",
    "    json_file.close()"
   ]
  },
  {
   "cell_type": "code",
   "execution_count": 0,
   "metadata": {
    "colab": {},
    "colab_type": "code",
    "id": "KDpIZwEBPr71"
   },
   "outputs": [],
   "source": [
    "challenge_df = pd.DataFrame(data_challenge)"
   ]
  },
  {
   "cell_type": "code",
   "execution_count": 7,
   "metadata": {
    "colab": {
     "base_uri": "https://localhost:8080/",
     "height": 258
    },
    "colab_type": "code",
    "id": "NRKcjwuTQSAK",
    "outputId": "eb3526c7-1881-4ff5-82b5-373fbd977e0e"
   },
   "outputs": [
    {
     "data": {
      "text/html": [
       "<div>\n",
       "<style scoped>\n",
       "    .dataframe tbody tr th:only-of-type {\n",
       "        vertical-align: middle;\n",
       "    }\n",
       "\n",
       "    .dataframe tbody tr th {\n",
       "        vertical-align: top;\n",
       "    }\n",
       "\n",
       "    .dataframe thead th {\n",
       "        text-align: right;\n",
       "    }\n",
       "</style>\n",
       "<table border=\"1\" class=\"dataframe\">\n",
       "  <thead>\n",
       "    <tr style=\"text-align: right;\">\n",
       "      <th></th>\n",
       "      <th>avg_dist</th>\n",
       "      <th>avg_rating_by_driver</th>\n",
       "      <th>avg_rating_of_driver</th>\n",
       "      <th>avg_surge</th>\n",
       "      <th>city</th>\n",
       "      <th>last_trip_date</th>\n",
       "      <th>phone</th>\n",
       "      <th>signup_date</th>\n",
       "      <th>surge_pct</th>\n",
       "      <th>trips_in_first_30_days</th>\n",
       "      <th>ultimate_black_user</th>\n",
       "      <th>weekday_pct</th>\n",
       "    </tr>\n",
       "  </thead>\n",
       "  <tbody>\n",
       "    <tr>\n",
       "      <th>0</th>\n",
       "      <td>3.67</td>\n",
       "      <td>5.0</td>\n",
       "      <td>4.7</td>\n",
       "      <td>1.10</td>\n",
       "      <td>King's Landing</td>\n",
       "      <td>2014-06-17</td>\n",
       "      <td>iPhone</td>\n",
       "      <td>2014-01-25</td>\n",
       "      <td>15.4</td>\n",
       "      <td>4</td>\n",
       "      <td>True</td>\n",
       "      <td>46.2</td>\n",
       "    </tr>\n",
       "    <tr>\n",
       "      <th>1</th>\n",
       "      <td>8.26</td>\n",
       "      <td>5.0</td>\n",
       "      <td>5.0</td>\n",
       "      <td>1.00</td>\n",
       "      <td>Astapor</td>\n",
       "      <td>2014-05-05</td>\n",
       "      <td>Android</td>\n",
       "      <td>2014-01-29</td>\n",
       "      <td>0.0</td>\n",
       "      <td>0</td>\n",
       "      <td>False</td>\n",
       "      <td>50.0</td>\n",
       "    </tr>\n",
       "    <tr>\n",
       "      <th>2</th>\n",
       "      <td>0.77</td>\n",
       "      <td>5.0</td>\n",
       "      <td>4.3</td>\n",
       "      <td>1.00</td>\n",
       "      <td>Astapor</td>\n",
       "      <td>2014-01-07</td>\n",
       "      <td>iPhone</td>\n",
       "      <td>2014-01-06</td>\n",
       "      <td>0.0</td>\n",
       "      <td>3</td>\n",
       "      <td>False</td>\n",
       "      <td>100.0</td>\n",
       "    </tr>\n",
       "    <tr>\n",
       "      <th>3</th>\n",
       "      <td>2.36</td>\n",
       "      <td>4.9</td>\n",
       "      <td>4.6</td>\n",
       "      <td>1.14</td>\n",
       "      <td>King's Landing</td>\n",
       "      <td>2014-06-29</td>\n",
       "      <td>iPhone</td>\n",
       "      <td>2014-01-10</td>\n",
       "      <td>20.0</td>\n",
       "      <td>9</td>\n",
       "      <td>True</td>\n",
       "      <td>80.0</td>\n",
       "    </tr>\n",
       "    <tr>\n",
       "      <th>4</th>\n",
       "      <td>3.13</td>\n",
       "      <td>4.9</td>\n",
       "      <td>4.4</td>\n",
       "      <td>1.19</td>\n",
       "      <td>Winterfell</td>\n",
       "      <td>2014-03-15</td>\n",
       "      <td>Android</td>\n",
       "      <td>2014-01-27</td>\n",
       "      <td>11.8</td>\n",
       "      <td>14</td>\n",
       "      <td>False</td>\n",
       "      <td>82.4</td>\n",
       "    </tr>\n",
       "  </tbody>\n",
       "</table>\n",
       "</div>"
      ],
      "text/plain": [
       "   avg_dist  avg_rating_by_driver  ...  ultimate_black_user  weekday_pct\n",
       "0      3.67                   5.0  ...                 True         46.2\n",
       "1      8.26                   5.0  ...                False         50.0\n",
       "2      0.77                   5.0  ...                False        100.0\n",
       "3      2.36                   4.9  ...                 True         80.0\n",
       "4      3.13                   4.9  ...                False         82.4\n",
       "\n",
       "[5 rows x 12 columns]"
      ]
     },
     "execution_count": 7,
     "metadata": {
      "tags": []
     },
     "output_type": "execute_result"
    }
   ],
   "source": [
    "challenge_df.head()"
   ]
  },
  {
   "cell_type": "code",
   "execution_count": 0,
   "metadata": {
    "colab": {},
    "colab_type": "code",
    "id": "Jp9XZn6TQUWs"
   },
   "outputs": [],
   "source": [
    "assert len(data_challenge) == challenge_df.shape[0]"
   ]
  },
  {
   "cell_type": "code",
   "execution_count": 0,
   "metadata": {
    "colab": {},
    "colab_type": "code",
    "id": "dgzApW7bQYGd"
   },
   "outputs": [],
   "source": [
    "assert len(data_challenge[0]) == challenge_df.shape[1]"
   ]
  },
  {
   "cell_type": "code",
   "execution_count": 10,
   "metadata": {
    "colab": {
     "base_uri": "https://localhost:8080/",
     "height": 35
    },
    "colab_type": "code",
    "id": "gTRvfJofQbAq",
    "outputId": "2936e844-04e6-45b3-d00c-c0de2c26ec43"
   },
   "outputs": [
    {
     "data": {
      "text/plain": [
       "(50000, 12)"
      ]
     },
     "execution_count": 10,
     "metadata": {
      "tags": []
     },
     "output_type": "execute_result"
    }
   ],
   "source": [
    "challenge_df.shape"
   ]
  },
  {
   "cell_type": "code",
   "execution_count": 11,
   "metadata": {
    "colab": {
     "base_uri": "https://localhost:8080/",
     "height": 266
    },
    "colab_type": "code",
    "id": "G3P2mucSQ60w",
    "outputId": "2a9055dd-f6ef-4b33-9aab-6079d2a7c181"
   },
   "outputs": [
    {
     "data": {
      "text/html": [
       "<div>\n",
       "<style scoped>\n",
       "    .dataframe tbody tr th:only-of-type {\n",
       "        vertical-align: middle;\n",
       "    }\n",
       "\n",
       "    .dataframe tbody tr th {\n",
       "        vertical-align: top;\n",
       "    }\n",
       "\n",
       "    .dataframe thead th {\n",
       "        text-align: right;\n",
       "    }\n",
       "</style>\n",
       "<table border=\"1\" class=\"dataframe\">\n",
       "  <thead>\n",
       "    <tr style=\"text-align: right;\">\n",
       "      <th></th>\n",
       "      <th>count</th>\n",
       "      <th>mean</th>\n",
       "      <th>std</th>\n",
       "      <th>min</th>\n",
       "      <th>25%</th>\n",
       "      <th>50%</th>\n",
       "      <th>75%</th>\n",
       "      <th>max</th>\n",
       "    </tr>\n",
       "  </thead>\n",
       "  <tbody>\n",
       "    <tr>\n",
       "      <th>avg_dist</th>\n",
       "      <td>50000.0</td>\n",
       "      <td>5.796827</td>\n",
       "      <td>5.707357</td>\n",
       "      <td>0.0</td>\n",
       "      <td>2.42</td>\n",
       "      <td>3.88</td>\n",
       "      <td>6.94</td>\n",
       "      <td>160.96</td>\n",
       "    </tr>\n",
       "    <tr>\n",
       "      <th>avg_rating_by_driver</th>\n",
       "      <td>49799.0</td>\n",
       "      <td>4.778158</td>\n",
       "      <td>0.446652</td>\n",
       "      <td>1.0</td>\n",
       "      <td>4.70</td>\n",
       "      <td>5.00</td>\n",
       "      <td>5.00</td>\n",
       "      <td>5.00</td>\n",
       "    </tr>\n",
       "    <tr>\n",
       "      <th>avg_rating_of_driver</th>\n",
       "      <td>41878.0</td>\n",
       "      <td>4.601559</td>\n",
       "      <td>0.617338</td>\n",
       "      <td>1.0</td>\n",
       "      <td>4.30</td>\n",
       "      <td>4.90</td>\n",
       "      <td>5.00</td>\n",
       "      <td>5.00</td>\n",
       "    </tr>\n",
       "    <tr>\n",
       "      <th>avg_surge</th>\n",
       "      <td>50000.0</td>\n",
       "      <td>1.074764</td>\n",
       "      <td>0.222336</td>\n",
       "      <td>1.0</td>\n",
       "      <td>1.00</td>\n",
       "      <td>1.00</td>\n",
       "      <td>1.05</td>\n",
       "      <td>8.00</td>\n",
       "    </tr>\n",
       "    <tr>\n",
       "      <th>surge_pct</th>\n",
       "      <td>50000.0</td>\n",
       "      <td>8.849536</td>\n",
       "      <td>19.958811</td>\n",
       "      <td>0.0</td>\n",
       "      <td>0.00</td>\n",
       "      <td>0.00</td>\n",
       "      <td>8.60</td>\n",
       "      <td>100.00</td>\n",
       "    </tr>\n",
       "    <tr>\n",
       "      <th>trips_in_first_30_days</th>\n",
       "      <td>50000.0</td>\n",
       "      <td>2.278200</td>\n",
       "      <td>3.792684</td>\n",
       "      <td>0.0</td>\n",
       "      <td>0.00</td>\n",
       "      <td>1.00</td>\n",
       "      <td>3.00</td>\n",
       "      <td>125.00</td>\n",
       "    </tr>\n",
       "    <tr>\n",
       "      <th>weekday_pct</th>\n",
       "      <td>50000.0</td>\n",
       "      <td>60.926084</td>\n",
       "      <td>37.081503</td>\n",
       "      <td>0.0</td>\n",
       "      <td>33.30</td>\n",
       "      <td>66.70</td>\n",
       "      <td>100.00</td>\n",
       "      <td>100.00</td>\n",
       "    </tr>\n",
       "  </tbody>\n",
       "</table>\n",
       "</div>"
      ],
      "text/plain": [
       "                          count       mean        std  ...    50%     75%     max\n",
       "avg_dist                50000.0   5.796827   5.707357  ...   3.88    6.94  160.96\n",
       "avg_rating_by_driver    49799.0   4.778158   0.446652  ...   5.00    5.00    5.00\n",
       "avg_rating_of_driver    41878.0   4.601559   0.617338  ...   4.90    5.00    5.00\n",
       "avg_surge               50000.0   1.074764   0.222336  ...   1.00    1.05    8.00\n",
       "surge_pct               50000.0   8.849536  19.958811  ...   0.00    8.60  100.00\n",
       "trips_in_first_30_days  50000.0   2.278200   3.792684  ...   1.00    3.00  125.00\n",
       "weekday_pct             50000.0  60.926084  37.081503  ...  66.70  100.00  100.00\n",
       "\n",
       "[7 rows x 8 columns]"
      ]
     },
     "execution_count": 11,
     "metadata": {
      "tags": []
     },
     "output_type": "execute_result"
    }
   ],
   "source": [
    "challenge_df.describe().T"
   ]
  },
  {
   "cell_type": "code",
   "execution_count": 12,
   "metadata": {
    "colab": {
     "base_uri": "https://localhost:8080/",
     "height": 323
    },
    "colab_type": "code",
    "id": "bPVCXmcnmXp4",
    "outputId": "ca30ee81-83e3-4755-f68b-386326ba10c2"
   },
   "outputs": [
    {
     "name": "stdout",
     "output_type": "stream",
     "text": [
      "<class 'pandas.core.frame.DataFrame'>\n",
      "RangeIndex: 50000 entries, 0 to 49999\n",
      "Data columns (total 12 columns):\n",
      "avg_dist                  50000 non-null float64\n",
      "avg_rating_by_driver      49799 non-null float64\n",
      "avg_rating_of_driver      41878 non-null float64\n",
      "avg_surge                 50000 non-null float64\n",
      "city                      50000 non-null object\n",
      "last_trip_date            50000 non-null object\n",
      "phone                     49604 non-null object\n",
      "signup_date               50000 non-null object\n",
      "surge_pct                 50000 non-null float64\n",
      "trips_in_first_30_days    50000 non-null int64\n",
      "ultimate_black_user       50000 non-null bool\n",
      "weekday_pct               50000 non-null float64\n",
      "dtypes: bool(1), float64(6), int64(1), object(4)\n",
      "memory usage: 4.2+ MB\n"
     ]
    }
   ],
   "source": [
    "challenge_df.info()"
   ]
  },
  {
   "cell_type": "code",
   "execution_count": 13,
   "metadata": {
    "colab": {
     "base_uri": "https://localhost:8080/",
     "height": 251
    },
    "colab_type": "code",
    "id": "0-tuk9PHExGt",
    "outputId": "689d16d0-701c-4ef8-c95c-d0382c9d5725"
   },
   "outputs": [
    {
     "data": {
      "text/plain": [
       "avg_dist                     0\n",
       "avg_rating_by_driver       201\n",
       "avg_rating_of_driver      8122\n",
       "avg_surge                    0\n",
       "city                         0\n",
       "last_trip_date               0\n",
       "phone                      396\n",
       "signup_date                  0\n",
       "surge_pct                    0\n",
       "trips_in_first_30_days       0\n",
       "ultimate_black_user          0\n",
       "weekday_pct                  0\n",
       "dtype: int64"
      ]
     },
     "execution_count": 13,
     "metadata": {
      "tags": []
     },
     "output_type": "execute_result"
    }
   ],
   "source": [
    "challenge_df.isnull().sum()"
   ]
  },
  {
   "cell_type": "code",
   "execution_count": 14,
   "metadata": {
    "colab": {
     "base_uri": "https://localhost:8080/",
     "height": 89
    },
    "colab_type": "code",
    "id": "r5sHcFuhGP88",
    "outputId": "b75ae2ce-2671-4ea1-c01a-5a781b4947e8"
   },
   "outputs": [
    {
     "data": {
      "text/plain": [
       "Index(['avg_dist', 'avg_rating_by_driver', 'avg_rating_of_driver', 'avg_surge',\n",
       "       'city', 'last_trip_date', 'phone', 'signup_date', 'surge_pct',\n",
       "       'trips_in_first_30_days', 'ultimate_black_user', 'weekday_pct'],\n",
       "      dtype='object')"
      ]
     },
     "execution_count": 14,
     "metadata": {
      "tags": []
     },
     "output_type": "execute_result"
    }
   ],
   "source": [
    "challenge_df.columns"
   ]
  },
  {
   "cell_type": "code",
   "execution_count": 15,
   "metadata": {
    "colab": {
     "base_uri": "https://localhost:8080/",
     "height": 179
    },
    "colab_type": "code",
    "id": "4bmRU9zyE2Jw",
    "outputId": "c215762a-4fa0-4653-8ecd-768f6dd27f56"
   },
   "outputs": [
    {
     "name": "stdout",
     "output_type": "stream",
     "text": [
      "Column: avg_dist, Min: 0.0, Max: 160.96\n",
      "Column: avg_rating_by_driver, Min: 1.0, Max: 5.0\n",
      "Column: avg_rating_of_driver, Min: 1.0, Max: 5.0\n",
      "Column: avg_surge, Min: 1.0, Max: 8.0\n",
      "Column: last_trip_date, Min: 2014-01-01, Max: 2014-07-01\n",
      "Column: signup_date, Min: 2014-01-01, Max: 2014-01-31\n",
      "Column: surge_pct, Min: 0.0, Max: 100.0\n",
      "Column: trips_in_first_30_days, Min: 0, Max: 125\n",
      "Column: weekday_pct, Min: 0.0, Max: 100.0\n"
     ]
    }
   ],
   "source": [
    "selected_columns = ['avg_dist', 'avg_rating_by_driver', 'avg_rating_of_driver', 'avg_surge',\n",
    "                     'last_trip_date',  'signup_date', 'surge_pct',\n",
    "                    'trips_in_first_30_days',  'weekday_pct']\n",
    "for c in selected_columns:\n",
    "  print('Column: {}, Min: {}, Max: {}'.format(c, challenge_df[c].min(), challenge_df[c].max()))"
   ]
  },
  {
   "cell_type": "code",
   "execution_count": 0,
   "metadata": {
    "colab": {},
    "colab_type": "code",
    "id": "_qTLoC2hFyz6"
   },
   "outputs": [],
   "source": [
    "# create column retained, if  last_trip_date occurred in the preceding 30 days\n",
    "# considering that the last trip happened on 2014-07-01,\n",
    "# retained customers are  the ones who last trip happened from 2014-06-01\n",
    "challenge_df['retained'] = False\n",
    "challenge_df.loc[challenge_df['last_trip_date'] >= '2014-06-01' ,'retained'] = True"
   ]
  },
  {
   "cell_type": "code",
   "execution_count": 17,
   "metadata": {
    "colab": {
     "base_uri": "https://localhost:8080/",
     "height": 35
    },
    "colab_type": "code",
    "id": "jabnZnUkJM--",
    "outputId": "e84aef6a-490f-4faa-85b5-58541beb4b31"
   },
   "outputs": [
    {
     "name": "stdout",
     "output_type": "stream",
     "text": [
      "Number of retained customers: 18804, 37.61%\n"
     ]
    }
   ],
   "source": [
    "# \n",
    "num_retained  =  challenge_df.retained.sum()\n",
    "total = len(challenge_df)\n",
    "print('Number of retained customers: {}, {:.2f}%'.format(num_retained, num_retained/total*100))"
   ]
  },
  {
   "cell_type": "code",
   "execution_count": 0,
   "metadata": {
    "colab": {},
    "colab_type": "code",
    "id": "U-MdVECtJhix"
   },
   "outputs": [],
   "source": [
    "import seaborn as sns"
   ]
  },
  {
   "cell_type": "code",
   "execution_count": 19,
   "metadata": {
    "colab": {
     "base_uri": "https://localhost:8080/",
     "height": 629
    },
    "colab_type": "code",
    "id": "LvBJ7iGCJikw",
    "outputId": "732cad89-4966-42c4-8295-6fe6a4b7c0bc"
   },
   "outputs": [
    {
     "data": {
      "image/png": "[encoded data removed]",
      "text/plain": [
       "<Figure size 1440x720 with 8 Axes>"
      ]
     },
     "metadata": {
      "tags": []
     },
     "output_type": "display_data"
    }
   ],
   "source": [
    "selected_columns = ['avg_dist', 'avg_rating_by_driver', 'avg_rating_of_driver', 'avg_surge',\n",
    "                    'surge_pct', 'trips_in_first_30_days',  'weekday_pct']\n",
    "f, axes = plt.subplots(nrows=2, ncols=4, figsize=(20,10))\n",
    "for i, c in zip(axes.flatten(), selected_columns):\n",
    "  sns.boxplot(x = 'retained', y= c, data = challenge_df, ax=i)"
   ]
  },
  {
   "cell_type": "code",
   "execution_count": 20,
   "metadata": {
    "colab": {
     "base_uri": "https://localhost:8080/",
     "height": 729
    },
    "colab_type": "code",
    "id": "hk7AOGi32Wcy",
    "outputId": "52699c1b-feaf-484a-f585-e16575d80c6b"
   },
   "outputs": [
    {
     "data": {
      "image/png": "[encoded data removed]",
      "text/plain": [
       "<Figure size 1008x720 with 4 Axes>"
      ]
     },
     "metadata": {
      "tags": []
     },
     "output_type": "display_data"
    }
   ],
   "source": [
    "selected_columns = ['city',  'phone',  'ultimate_black_user']\n",
    "f, axes = plt.subplots(nrows=2, ncols=2, figsize=(14,10))\n",
    "\n",
    "for i, c in zip(axes.flatten(), selected_columns):\n",
    "  sns.catplot(y=c, hue='retained', kind='count',\n",
    "            palette='pastel', edgecolor='.6',\n",
    "            data=challenge_df, ax=i)\n",
    "plt.close(2)\n",
    "plt.close(3)\n",
    "plt.close(4)\n",
    "f.tight_layout()"
   ]
  },
  {
   "cell_type": "code",
   "execution_count": 21,
   "metadata": {
    "colab": {
     "base_uri": "https://localhost:8080/",
     "height": 398
    },
    "colab_type": "code",
    "id": "C8A994AOJie0",
    "outputId": "6317e111-5957-433a-a349-f6672403adfa"
   },
   "outputs": [
    {
     "data": {
      "image/png": "[encoded data removed]",
      "text/plain": [
       "<Figure size 1008x360 with 2 Axes>"
      ]
     },
     "metadata": {
      "tags": []
     },
     "output_type": "display_data"
    }
   ],
   "source": [
    "f, axes = plt.subplots(nrows=1, ncols=2, figsize=(14,5))\n",
    "group_signup = challenge_df.groupby(['signup_date','retained']).size().reset_index().pivot(\n",
    "    columns='retained', index='signup_date', values=0)\n",
    "group_signup.plot(kind='bar', stacked=True, ax = axes[0])\n",
    "group_signup.reset_index(inplace=True)\n",
    "group_signup['Perc_True']=group_signup[True]/(group_signup[True]+group_signup[False])*100\n",
    "group_signup['Perc_True'].plot(kind='line', ax = axes[1])\n",
    "axes[0].set_title('# of customers per signup date')\n",
    "axes[1].set_title('% of customers retained per signup date')\n",
    "plt.show()"
   ]
  },
  {
   "cell_type": "code",
   "execution_count": 0,
   "metadata": {
    "colab": {},
    "colab_type": "code",
    "id": "cI-I92j7Jhfk"
   },
   "outputs": [],
   "source": []
  },
  {
   "cell_type": "markdown",
   "metadata": {
    "colab_type": "text",
    "id": "RMMUfe5wDqIg"
   },
   "source": [
    "1. Perform any cleaning, exploratory analysis, and/or visualizations to use the provided data for this analysis (a few sentences/plots describing your approach will suffice). What fraction of the observed users were retained?\n",
    "\n",
    "A.: **37.61%** of customers were retained.\n",
    "We also found from the exploratory analysis thathave missing values for:\n",
    "- avg_rating_by_driver\n",
    "- avg_rating_of_driver\n",
    "- phone\n",
    "\n",
    "Some variables present outliers, in the form of extremely high values:\n",
    "- avg_dist, Max: 160.96\n",
    "- trips_in_first_30_days, Max: 125\n",
    "- avg_surge, Max: 8\n",
    "\n",
    "Also the distributions depicted on box plot charts and count charts, indicate that we might expect that some variables might be good predictors of retention. They are:\n",
    "- surge_pct\n",
    "- weekend_pct\n",
    "- city\n",
    "- phone\n",
    "- ultimate_black_user\n"
   ]
  },
  {
   "cell_type": "markdown",
   "metadata": {
    "colab_type": "text",
    "id": "aRkOAl7THDtZ"
   },
   "source": [
    "### Modelling for question 2"
   ]
  },
  {
   "cell_type": "code",
   "execution_count": 22,
   "metadata": {
    "colab": {
     "base_uri": "https://localhost:8080/",
     "height": 107
    },
    "colab_type": "code",
    "id": "u71zjwVzJhcy",
    "outputId": "e67474a8-0e8b-4956-d750-2ac620f030ca"
   },
   "outputs": [
    {
     "data": {
      "text/plain": [
       "Index(['avg_dist', 'avg_rating_by_driver', 'avg_rating_of_driver', 'avg_surge',\n",
       "       'city', 'last_trip_date', 'phone', 'signup_date', 'surge_pct',\n",
       "       'trips_in_first_30_days', 'ultimate_black_user', 'weekday_pct',\n",
       "       'retained'],\n",
       "      dtype='object')"
      ]
     },
     "execution_count": 22,
     "metadata": {
      "tags": []
     },
     "output_type": "execute_result"
    }
   ],
   "source": [
    "challenge_df.columns"
   ]
  },
  {
   "cell_type": "code",
   "execution_count": 0,
   "metadata": {
    "colab": {},
    "colab_type": "code",
    "id": "Ny7GI88jJhZl"
   },
   "outputs": [],
   "source": [
    "# Create labels\n",
    "y = challenge_df.retained*1"
   ]
  },
  {
   "cell_type": "code",
   "execution_count": 0,
   "metadata": {
    "colab": {},
    "colab_type": "code",
    "id": "Tx7DFDbrJhWQ"
   },
   "outputs": [],
   "source": [
    "# Create features\n",
    "selected_features = ['avg_dist', 'avg_rating_by_driver', 'avg_rating_of_driver', 'avg_surge',\n",
    "                    'city', 'phone', 'signup_date', 'surge_pct',\n",
    "                    'trips_in_first_30_days', 'ultimate_black_user', 'weekday_pct'] \n",
    "#last trip data is exclude because it would leak the target label\n",
    "X = challenge_df[selected_features].copy()"
   ]
  },
  {
   "cell_type": "code",
   "execution_count": 25,
   "metadata": {
    "colab": {
     "base_uri": "https://localhost:8080/",
     "height": 258
    },
    "colab_type": "code",
    "id": "hPqB72UnNh1H",
    "outputId": "b301f15b-e388-4b84-ab3d-6f668d7a949f"
   },
   "outputs": [
    {
     "data": {
      "text/html": [
       "<div>\n",
       "<style scoped>\n",
       "    .dataframe tbody tr th:only-of-type {\n",
       "        vertical-align: middle;\n",
       "    }\n",
       "\n",
       "    .dataframe tbody tr th {\n",
       "        vertical-align: top;\n",
       "    }\n",
       "\n",
       "    .dataframe thead th {\n",
       "        text-align: right;\n",
       "    }\n",
       "</style>\n",
       "<table border=\"1\" class=\"dataframe\">\n",
       "  <thead>\n",
       "    <tr style=\"text-align: right;\">\n",
       "      <th></th>\n",
       "      <th>avg_dist</th>\n",
       "      <th>avg_rating_by_driver</th>\n",
       "      <th>avg_rating_of_driver</th>\n",
       "      <th>avg_surge</th>\n",
       "      <th>city</th>\n",
       "      <th>phone</th>\n",
       "      <th>signup_date</th>\n",
       "      <th>surge_pct</th>\n",
       "      <th>trips_in_first_30_days</th>\n",
       "      <th>ultimate_black_user</th>\n",
       "      <th>weekday_pct</th>\n",
       "    </tr>\n",
       "  </thead>\n",
       "  <tbody>\n",
       "    <tr>\n",
       "      <th>0</th>\n",
       "      <td>3.67</td>\n",
       "      <td>5.0</td>\n",
       "      <td>4.7</td>\n",
       "      <td>1.10</td>\n",
       "      <td>King's Landing</td>\n",
       "      <td>iPhone</td>\n",
       "      <td>2014-01-25</td>\n",
       "      <td>15.4</td>\n",
       "      <td>4</td>\n",
       "      <td>True</td>\n",
       "      <td>46.2</td>\n",
       "    </tr>\n",
       "    <tr>\n",
       "      <th>1</th>\n",
       "      <td>8.26</td>\n",
       "      <td>5.0</td>\n",
       "      <td>5.0</td>\n",
       "      <td>1.00</td>\n",
       "      <td>Astapor</td>\n",
       "      <td>Android</td>\n",
       "      <td>2014-01-29</td>\n",
       "      <td>0.0</td>\n",
       "      <td>0</td>\n",
       "      <td>False</td>\n",
       "      <td>50.0</td>\n",
       "    </tr>\n",
       "    <tr>\n",
       "      <th>2</th>\n",
       "      <td>0.77</td>\n",
       "      <td>5.0</td>\n",
       "      <td>4.3</td>\n",
       "      <td>1.00</td>\n",
       "      <td>Astapor</td>\n",
       "      <td>iPhone</td>\n",
       "      <td>2014-01-06</td>\n",
       "      <td>0.0</td>\n",
       "      <td>3</td>\n",
       "      <td>False</td>\n",
       "      <td>100.0</td>\n",
       "    </tr>\n",
       "    <tr>\n",
       "      <th>3</th>\n",
       "      <td>2.36</td>\n",
       "      <td>4.9</td>\n",
       "      <td>4.6</td>\n",
       "      <td>1.14</td>\n",
       "      <td>King's Landing</td>\n",
       "      <td>iPhone</td>\n",
       "      <td>2014-01-10</td>\n",
       "      <td>20.0</td>\n",
       "      <td>9</td>\n",
       "      <td>True</td>\n",
       "      <td>80.0</td>\n",
       "    </tr>\n",
       "    <tr>\n",
       "      <th>4</th>\n",
       "      <td>3.13</td>\n",
       "      <td>4.9</td>\n",
       "      <td>4.4</td>\n",
       "      <td>1.19</td>\n",
       "      <td>Winterfell</td>\n",
       "      <td>Android</td>\n",
       "      <td>2014-01-27</td>\n",
       "      <td>11.8</td>\n",
       "      <td>14</td>\n",
       "      <td>False</td>\n",
       "      <td>82.4</td>\n",
       "    </tr>\n",
       "  </tbody>\n",
       "</table>\n",
       "</div>"
      ],
      "text/plain": [
       "   avg_dist  avg_rating_by_driver  ...  ultimate_black_user  weekday_pct\n",
       "0      3.67                   5.0  ...                 True         46.2\n",
       "1      8.26                   5.0  ...                False         50.0\n",
       "2      0.77                   5.0  ...                False        100.0\n",
       "3      2.36                   4.9  ...                 True         80.0\n",
       "4      3.13                   4.9  ...                False         82.4\n",
       "\n",
       "[5 rows x 11 columns]"
      ]
     },
     "execution_count": 25,
     "metadata": {
      "tags": []
     },
     "output_type": "execute_result"
    }
   ],
   "source": [
    "X.head()"
   ]
  },
  {
   "cell_type": "code",
   "execution_count": 0,
   "metadata": {
    "colab": {},
    "colab_type": "code",
    "id": "jekSAh1LObMO"
   },
   "outputs": [],
   "source": [
    "# treatment of categorical features: city, phone and ultimate_black_user\n",
    "# treat missing values for phone including label 'unknown'\n",
    "X.phone.fillna('unknown', inplace = True)\n",
    "# convert 'ultimate_black_user' to binary\n",
    "X['ultimate_black_user'] *=1\n",
    "# convert 'city' and 'phone' to one-hot encoding\n",
    "X = pd.get_dummies(X, columns=['city', 'phone'])"
   ]
  },
  {
   "cell_type": "code",
   "execution_count": 27,
   "metadata": {
    "colab": {
     "base_uri": "https://localhost:8080/",
     "height": 241
    },
    "colab_type": "code",
    "id": "Nnbhd6yaPHXK",
    "outputId": "ce032aa0-3633-404f-ea1b-1557e5b998bb"
   },
   "outputs": [
    {
     "data": {
      "text/html": [
       "<div>\n",
       "<style scoped>\n",
       "    .dataframe tbody tr th:only-of-type {\n",
       "        vertical-align: middle;\n",
       "    }\n",
       "\n",
       "    .dataframe tbody tr th {\n",
       "        vertical-align: top;\n",
       "    }\n",
       "\n",
       "    .dataframe thead th {\n",
       "        text-align: right;\n",
       "    }\n",
       "</style>\n",
       "<table border=\"1\" class=\"dataframe\">\n",
       "  <thead>\n",
       "    <tr style=\"text-align: right;\">\n",
       "      <th></th>\n",
       "      <th>avg_dist</th>\n",
       "      <th>avg_rating_by_driver</th>\n",
       "      <th>avg_rating_of_driver</th>\n",
       "      <th>avg_surge</th>\n",
       "      <th>signup_date</th>\n",
       "      <th>surge_pct</th>\n",
       "      <th>trips_in_first_30_days</th>\n",
       "      <th>ultimate_black_user</th>\n",
       "      <th>weekday_pct</th>\n",
       "      <th>city_Astapor</th>\n",
       "      <th>city_King's Landing</th>\n",
       "      <th>city_Winterfell</th>\n",
       "      <th>phone_Android</th>\n",
       "      <th>phone_iPhone</th>\n",
       "      <th>phone_unknown</th>\n",
       "    </tr>\n",
       "  </thead>\n",
       "  <tbody>\n",
       "    <tr>\n",
       "      <th>0</th>\n",
       "      <td>3.67</td>\n",
       "      <td>5.0</td>\n",
       "      <td>4.7</td>\n",
       "      <td>1.10</td>\n",
       "      <td>2014-01-25</td>\n",
       "      <td>15.4</td>\n",
       "      <td>4</td>\n",
       "      <td>1</td>\n",
       "      <td>46.2</td>\n",
       "      <td>0</td>\n",
       "      <td>1</td>\n",
       "      <td>0</td>\n",
       "      <td>0</td>\n",
       "      <td>1</td>\n",
       "      <td>0</td>\n",
       "    </tr>\n",
       "    <tr>\n",
       "      <th>1</th>\n",
       "      <td>8.26</td>\n",
       "      <td>5.0</td>\n",
       "      <td>5.0</td>\n",
       "      <td>1.00</td>\n",
       "      <td>2014-01-29</td>\n",
       "      <td>0.0</td>\n",
       "      <td>0</td>\n",
       "      <td>0</td>\n",
       "      <td>50.0</td>\n",
       "      <td>1</td>\n",
       "      <td>0</td>\n",
       "      <td>0</td>\n",
       "      <td>1</td>\n",
       "      <td>0</td>\n",
       "      <td>0</td>\n",
       "    </tr>\n",
       "    <tr>\n",
       "      <th>2</th>\n",
       "      <td>0.77</td>\n",
       "      <td>5.0</td>\n",
       "      <td>4.3</td>\n",
       "      <td>1.00</td>\n",
       "      <td>2014-01-06</td>\n",
       "      <td>0.0</td>\n",
       "      <td>3</td>\n",
       "      <td>0</td>\n",
       "      <td>100.0</td>\n",
       "      <td>1</td>\n",
       "      <td>0</td>\n",
       "      <td>0</td>\n",
       "      <td>0</td>\n",
       "      <td>1</td>\n",
       "      <td>0</td>\n",
       "    </tr>\n",
       "    <tr>\n",
       "      <th>3</th>\n",
       "      <td>2.36</td>\n",
       "      <td>4.9</td>\n",
       "      <td>4.6</td>\n",
       "      <td>1.14</td>\n",
       "      <td>2014-01-10</td>\n",
       "      <td>20.0</td>\n",
       "      <td>9</td>\n",
       "      <td>1</td>\n",
       "      <td>80.0</td>\n",
       "      <td>0</td>\n",
       "      <td>1</td>\n",
       "      <td>0</td>\n",
       "      <td>0</td>\n",
       "      <td>1</td>\n",
       "      <td>0</td>\n",
       "    </tr>\n",
       "    <tr>\n",
       "      <th>4</th>\n",
       "      <td>3.13</td>\n",
       "      <td>4.9</td>\n",
       "      <td>4.4</td>\n",
       "      <td>1.19</td>\n",
       "      <td>2014-01-27</td>\n",
       "      <td>11.8</td>\n",
       "      <td>14</td>\n",
       "      <td>0</td>\n",
       "      <td>82.4</td>\n",
       "      <td>0</td>\n",
       "      <td>0</td>\n",
       "      <td>1</td>\n",
       "      <td>1</td>\n",
       "      <td>0</td>\n",
       "      <td>0</td>\n",
       "    </tr>\n",
       "  </tbody>\n",
       "</table>\n",
       "</div>"
      ],
      "text/plain": [
       "   avg_dist  avg_rating_by_driver  ...  phone_iPhone  phone_unknown\n",
       "0      3.67                   5.0  ...             1              0\n",
       "1      8.26                   5.0  ...             0              0\n",
       "2      0.77                   5.0  ...             1              0\n",
       "3      2.36                   4.9  ...             1              0\n",
       "4      3.13                   4.9  ...             0              0\n",
       "\n",
       "[5 rows x 15 columns]"
      ]
     },
     "execution_count": 27,
     "metadata": {
      "tags": []
     },
     "output_type": "execute_result"
    }
   ],
   "source": [
    "X.head()"
   ]
  },
  {
   "cell_type": "code",
   "execution_count": 0,
   "metadata": {
    "colab": {},
    "colab_type": "code",
    "id": "6s-9NKYqbun4"
   },
   "outputs": [],
   "source": [
    "# Extracting the day from 'signup_date'\n",
    "X['signup_day'] = X['signup_date'].str[-2:].astype(int)\n",
    "X.drop('signup_date', axis =1, inplace = True)"
   ]
  },
  {
   "cell_type": "code",
   "execution_count": 0,
   "metadata": {
    "colab": {},
    "colab_type": "code",
    "id": "-7QqM5csPiUH"
   },
   "outputs": [],
   "source": [
    "# treatment of missing values for numeric values\n",
    "selected_columns = ['avg_rating_by_driver', 'avg_rating_of_driver']\n",
    "for c in selected_columns:\n",
    "  X[c].fillna(-1, inplace = True)"
   ]
  },
  {
   "cell_type": "code",
   "execution_count": 0,
   "metadata": {
    "colab": {},
    "colab_type": "code",
    "id": "vAGzRhNHZ47a"
   },
   "outputs": [],
   "source": [
    "# separate train and test datasets\n",
    "from sklearn.model_selection import train_test_split\n",
    "\n",
    "X_train, X_test, y_train, y_test = train_test_split(\n",
    "                                    X, y, test_size=0.2, random_state=101)"
   ]
  },
  {
   "cell_type": "code",
   "execution_count": 0,
   "metadata": {
    "colab": {},
    "colab_type": "code",
    "id": "cCywaGPPTpUg"
   },
   "outputs": [],
   "source": [
    "from sklearn import preprocessing\n",
    "\n",
    "scaler = preprocessing.StandardScaler()\n",
    "scaler = scaler.fit(X_train)\n",
    "X_train_scaled = scaler.transform(X_train)\n",
    "X_test_scaled = scaler.transform(X_test)\n"
   ]
  },
  {
   "cell_type": "code",
   "execution_count": 32,
   "metadata": {
    "colab": {
     "base_uri": "https://localhost:8080/",
     "height": 107
    },
    "colab_type": "code",
    "id": "9qGF6fpJeKDY",
    "outputId": "1e1810ae-cdc5-4e19-a0cf-ed091fb826d7"
   },
   "outputs": [
    {
     "name": "stdout",
     "output_type": "stream",
     "text": [
      "Best C: 1, resulted score: 0.7225 for the held-out test data and 0.7228 for the train set\n",
      "Accuracy: 72.250%\n",
      "F1 Score: 57.679%\n",
      "Precision Score: 67.319%\n",
      "Recall Score: 50.454%\n"
     ]
    }
   ],
   "source": [
    "# First attemp with a logistic regression\n",
    "from sklearn.model_selection import GridSearchCV\n",
    "from sklearn.linear_model import LogisticRegression\n",
    "from sklearn.metrics import accuracy_score, f1_score, precision_score, recall_score, classification_report, confusion_matrix\n",
    " \n",
    "Cs = [0.001, 0.1, 1, 10, 100]\n",
    "parameters = { 'C' : Cs}\n",
    "metric = 'accuracy'\n",
    "lr = LogisticRegression(solver='lbfgs')\n",
    "clf = GridSearchCV(lr, parameters, scoring = metric, cv=5)\n",
    "clf.fit(X_train_scaled, y_train)\n",
    "clf_best = clf.best_estimator_ \n",
    "score = accuracy_score(clf_best.predict(X_test_scaled), y_test)\n",
    "score_train = accuracy_score(clf_best.predict(X_train_scaled), y_train)\n",
    "best_C_grid = clf.best_params_['C']\n",
    "print('Best C: {}, resulted score: {} for the held-out test data and {} for the train set'.format(best_C_grid, score, score_train))\n",
    "y_pred = clf_best.predict(X_test_scaled)\n",
    "print('Accuracy: {:.3f}%'.format(score*100.0))\n",
    "print('F1 Score: {:.3f}%'.format(f1_score(y_test, y_pred)*100))\n",
    "print('Precision Score: {:.3f}%'.format(precision_score(y_test, y_pred)*100))\n",
    "print('Recall Score: {:.3f}%'.format(recall_score(y_test, y_pred)*100))"
   ]
  },
  {
   "cell_type": "code",
   "execution_count": 33,
   "metadata": {
    "colab": {
     "base_uri": "https://localhost:8080/",
     "height": 35
    },
    "colab_type": "code",
    "id": "jUQHZE8B2w4z",
    "outputId": "f11cdc35-46c2-4728-f7b2-920e13c47d28"
   },
   "outputs": [
    {
     "name": "stdout",
     "output_type": "stream",
     "text": [
      "Best max_depth: 10, resulted score: 0.7792 for the held-out test data and 0.810425 for the train set\n"
     ]
    }
   ],
   "source": [
    "# Import the model we are using\n",
    "from sklearn.ensemble import RandomForestClassifier\n",
    "# Instantiate model with 1000 decision trees\n",
    "rf = RandomForestClassifier(n_estimators = 1000, random_state = 101)\n",
    "# Train the model on training data\n",
    "parameters = { 'max_depth' : [3, 5, 8, 10]}\n",
    "clf = GridSearchCV(rf, parameters, scoring = metric, cv=5)\n",
    "clf.fit(X_train_scaled, y_train)\n",
    "clf_best = clf.best_estimator_ \n",
    "score = accuracy_score(clf_best.predict(X_test_scaled), y_test)\n",
    "score_train = accuracy_score(clf_best.predict(X_train_scaled), y_train)\n",
    "best_max_depth_grid = clf.best_params_['max_depth']\n",
    "print('Best max_depth: {}, resulted score: {} for the held-out test data and {} for the train set'.format(best_max_depth_grid, score, score_train))"
   ]
  },
  {
   "cell_type": "code",
   "execution_count": 34,
   "metadata": {
    "colab": {
     "base_uri": "https://localhost:8080/",
     "height": 409
    },
    "colab_type": "code",
    "id": "4ZS3SEaL9V90",
    "outputId": "a9a18e8e-e6ee-4c5b-fa75-ecff5dcb5f4f"
   },
   "outputs": [
    {
     "name": "stdout",
     "output_type": "stream",
     "text": [
      "Accuracy: 77.920%\n",
      "F1 Score: 68.520%\n",
      "Precision Score: 73.576%\n",
      "Recall Score: 64.114%\n"
     ]
    },
    {
     "data": {
      "image/png": "[encoded data removed]",
      "text/plain": [
       "<Figure size 360x360 with 2 Axes>"
      ]
     },
     "metadata": {
      "tags": []
     },
     "output_type": "display_data"
    }
   ],
   "source": [
    "print('Accuracy: {:.3f}%'.format(score*100.0))\n",
    "y_pred = clf_best.predict(X_test_scaled)\n",
    "print('F1 Score: {:.3f}%'.format(f1_score(y_test, y_pred)*100))\n",
    "print('Precision Score: {:.3f}%'.format(precision_score(y_test, y_pred)*100))\n",
    "print('Recall Score: {:.3f}%'.format(recall_score(y_test, y_pred)*100)) \n",
    "\n",
    "\n",
    "def cm_analysis(y_true, y_pred, labels, ymap=None, figsize=(10,10)):\n",
    "    \"\"\"\n",
    "    Generate matrix plot of confusion matrix with pretty annotations.\n",
    "    The plot image is saved to disk.\n",
    "    args: \n",
    "      y_true:    true label of the data, with shape (nsamples,)\n",
    "      y_pred:    prediction of the data, with shape (nsamples,)\n",
    "      filename:  filename of figure file to save\n",
    "      labels:    string array, name the order of class labels in the confusion matrix.\n",
    "                 use `clf.classes_` if using scikit-learn models.\n",
    "                 with shape (nclass,).\n",
    "      ymap:      dict: any -> string, length == nclass.\n",
    "                 if not None, map the labels & ys to more understandable strings.\n",
    "                 Caution: original y_true, y_pred and labels must align.\n",
    "      figsize:   the size of the figure plotted.\n",
    "    \"\"\"\n",
    "    if ymap is not None:\n",
    "        y_pred = [ymap[yi] for yi in y_pred]\n",
    "        y_true = [ymap[yi] for yi in y_true]\n",
    "        labels = [ymap[yi] for yi in labels]\n",
    "    cm = confusion_matrix(y_true, y_pred, labels=labels)\n",
    "    cm_sum = cm.sum()\n",
    "    cm_perc = cm / cm_sum.astype(float) * 100\n",
    "    annot = np.empty_like(cm).astype(str)\n",
    "    nrows, ncols = cm.shape\n",
    "    for i in range(nrows):\n",
    "        for j in range(ncols):\n",
    "            c = cm[i, j]\n",
    "            p = cm_perc[i, j]\n",
    "            if i == j:\n",
    "                \n",
    "                annot[i, j] = '%.1f%%\\n%d' % (p, c)\n",
    "            elif c == 0:\n",
    "                annot[i, j] = ''\n",
    "            else:\n",
    "                annot[i, j] = '%.1f%%\\n%d' % (p, c)\n",
    "    cm = pd.DataFrame(cm, index=labels, columns=labels)\n",
    "    cm.index.name = 'Actual'\n",
    "    cm.columns.name = 'Predicted'\n",
    "    fig, ax = plt.subplots(figsize=figsize)\n",
    "    sns.heatmap(cm, annot=annot, fmt='', ax=ax)\n",
    "    #plt.savefig(filename)\n",
    "    plt.show()\n",
    "\n",
    "cm_analysis(y_test, y_pred, clf_best.classes_, ymap=None, figsize=(5,5))"
   ]
  },
  {
   "cell_type": "markdown",
   "metadata": {
    "colab_type": "text",
    "id": "wlyN6DyXMama"
   },
   "source": [
    "2. Build a predictive model to help Ultimate determine whether or not a user will be active in their 6th month on the system. Discuss why you chose your approach, what alternatives you considered, and any concerns you have. How valid is your model? Include any key indicators of model performance.\n",
    "\n",
    "A.: We created a classifier to determine if the customer would be active in the 6th month.  The approach we used:\n",
    "\n",
    "- we used all categorical features, and coded them with one-hot-encoding\n",
    "- For missing values in phone, we include the tag \"unknown\" and for avg_rating_of_driver and avg_rating_by_driver, we included a magic number -1\n",
    "- We applied standard scaling for the dataset\n",
    "- We firstly attempted a logist regression model, trying several different parameters C, getting an accuracy of 72.3%\n",
    "- We also tried a random forest classifier, with different max_depth parameters, which performed better with a 77.9% accuracy \n",
    "\n",
    "So we decided, to use the random forest model which had the following main scores:\n",
    "- Accuracy: 77.920%\n",
    "- F1 Score: 68.520%\n",
    "- Precision Score: 73.576%\n",
    "- Recall Score: 64.114% "
   ]
  },
  {
   "cell_type": "markdown",
   "metadata": {
    "colab_type": "text",
    "id": "kYKlp89gR1hr"
   },
   "source": [
    "### Question 3 insights from the model"
   ]
  },
  {
   "cell_type": "code",
   "execution_count": 36,
   "metadata": {
    "colab": {
     "base_uri": "https://localhost:8080/",
     "height": 295
    },
    "colab_type": "code",
    "id": "RiGUPhR1DcdT",
    "outputId": "b25c8dbe-82f5-4500-a5ce-4755f795eb97"
   },
   "outputs": [
    {
     "data": {
      "image/png": "[encoded data removed]",
      "text/plain": [
       "<Figure size 432x288 with 1 Axes>"
      ]
     },
     "metadata": {
      "tags": []
     },
     "output_type": "display_data"
    }
   ],
   "source": [
    "features=X.columns\n",
    "importances = clf_best.feature_importances_\n",
    "indices = np.argsort(importances)\n",
    "\n",
    "plt.figure(1)\n",
    "plt.title('Feature Importances')\n",
    "plt.barh(range(len(indices)), importances[indices], color='b', align='center')\n",
    "plt.yticks(range(len(indices)), features[indices])\n",
    "plt.xlabel('Relative Importance')\n",
    "plt.show()"
   ]
  },
  {
   "cell_type": "code",
   "execution_count": 68,
   "metadata": {
    "colab": {
     "base_uri": "https://localhost:8080/",
     "height": 775
    },
    "colab_type": "code",
    "id": "Al5dSMuFTRgz",
    "outputId": "4b8432ab-f319-449b-eb17-75f50fcb0624"
   },
   "outputs": [
    {
     "name": "stdout",
     "output_type": "stream",
     "text": [
      "Collecting shap\n",
      "\u001b[?25l  Downloading https://files.pythonhosted.org/packages/3b/98/16829410426bdd08b836c30e164c56646d6a102afb9eadd81a6bd3a8bb65/shap-0.30.0.tar.gz (240kB)\n",
      "\u001b[K     |████████████████████████████████| 245kB 4.8MB/s \n",
      "\u001b[?25hRequirement already satisfied: numpy in /usr/local/lib/python3.6/dist-packages (from shap) (1.16.5)\n",
      "Requirement already satisfied: scipy in /usr/local/lib/python3.6/dist-packages (from shap) (1.3.1)\n",
      "Requirement already satisfied: scikit-learn in /usr/local/lib/python3.6/dist-packages (from shap) (0.21.3)\n",
      "Requirement already satisfied: matplotlib in /usr/local/lib/python3.6/dist-packages (from shap) (3.0.3)\n",
      "Requirement already satisfied: pandas in /usr/local/lib/python3.6/dist-packages (from shap) (0.24.2)\n",
      "Requirement already satisfied: tqdm>4.25.0 in /usr/local/lib/python3.6/dist-packages (from shap) (4.28.1)\n",
      "Requirement already satisfied: ipython in /usr/local/lib/python3.6/dist-packages (from shap) (5.5.0)\n",
      "Requirement already satisfied: scikit-image in /usr/local/lib/python3.6/dist-packages (from shap) (0.15.0)\n",
      "Requirement already satisfied: joblib>=0.11 in /usr/local/lib/python3.6/dist-packages (from scikit-learn->shap) (0.13.2)\n",
      "Requirement already satisfied: kiwisolver>=1.0.1 in /usr/local/lib/python3.6/dist-packages (from matplotlib->shap) (1.1.0)\n",
      "Requirement already satisfied: python-dateutil>=2.1 in /usr/local/lib/python3.6/dist-packages (from matplotlib->shap) (2.5.3)\n",
      "Requirement already satisfied: pyparsing!=2.0.4,!=2.1.2,!=2.1.6,>=2.0.1 in /usr/local/lib/python3.6/dist-packages (from matplotlib->shap) (2.4.2)\n",
      "Requirement already satisfied: cycler>=0.10 in /usr/local/lib/python3.6/dist-packages (from matplotlib->shap) (0.10.0)\n",
      "Requirement already satisfied: pytz>=2011k in /usr/local/lib/python3.6/dist-packages (from pandas->shap) (2018.9)\n",
      "Requirement already satisfied: decorator in /usr/local/lib/python3.6/dist-packages (from ipython->shap) (4.4.0)\n",
      "Requirement already satisfied: simplegeneric>0.8 in /usr/local/lib/python3.6/dist-packages (from ipython->shap) (0.8.1)\n",
      "Requirement already satisfied: prompt-toolkit<2.0.0,>=1.0.4 in /usr/local/lib/python3.6/dist-packages (from ipython->shap) (1.0.16)\n",
      "Requirement already satisfied: pygments in /usr/local/lib/python3.6/dist-packages (from ipython->shap) (2.1.3)\n",
      "Requirement already satisfied: pexpect; sys_platform != \"win32\" in /usr/local/lib/python3.6/dist-packages (from ipython->shap) (4.7.0)\n",
      "Requirement already satisfied: setuptools>=18.5 in /usr/local/lib/python3.6/dist-packages (from ipython->shap) (41.2.0)\n",
      "Requirement already satisfied: traitlets>=4.2 in /usr/local/lib/python3.6/dist-packages (from ipython->shap) (4.3.2)\n",
      "Requirement already satisfied: pickleshare in /usr/local/lib/python3.6/dist-packages (from ipython->shap) (0.7.5)\n",
      "Requirement already satisfied: imageio>=2.0.1 in /usr/local/lib/python3.6/dist-packages (from scikit-image->shap) (2.4.1)\n",
      "Requirement already satisfied: networkx>=2.0 in /usr/local/lib/python3.6/dist-packages (from scikit-image->shap) (2.3)\n",
      "Requirement already satisfied: pillow>=4.3.0 in /usr/local/lib/python3.6/dist-packages (from scikit-image->shap) (4.3.0)\n",
      "Requirement already satisfied: PyWavelets>=0.4.0 in /usr/local/lib/python3.6/dist-packages (from scikit-image->shap) (1.0.3)\n",
      "Requirement already satisfied: six>=1.5 in /usr/local/lib/python3.6/dist-packages (from python-dateutil>=2.1->matplotlib->shap) (1.12.0)\n",
      "Requirement already satisfied: wcwidth in /usr/local/lib/python3.6/dist-packages (from prompt-toolkit<2.0.0,>=1.0.4->ipython->shap) (0.1.7)\n",
      "Requirement already satisfied: ptyprocess>=0.5 in /usr/local/lib/python3.6/dist-packages (from pexpect; sys_platform != \"win32\"->ipython->shap) (0.6.0)\n",
      "Requirement already satisfied: ipython-genutils in /usr/local/lib/python3.6/dist-packages (from traitlets>=4.2->ipython->shap) (0.2.0)\n",
      "Requirement already satisfied: olefile in /usr/local/lib/python3.6/dist-packages (from pillow>=4.3.0->scikit-image->shap) (0.46)\n",
      "Building wheels for collected packages: shap\n",
      "  Building wheel for shap (setup.py) ... \u001b[?25l\u001b[?25hdone\n",
      "  Created wheel for shap: filename=shap-0.30.0-cp36-cp36m-linux_x86_64.whl size=356758 sha256=31a8dec070ba4867f9387e2da70e1f11246d4e949ee73259435bed6754f0d80b\n",
      "  Stored in directory: /root/.cache/pip/wheels/67/7a/5b/34feab81170fb8bf642a7536b5127e54e00bce373564435808\n",
      "Successfully built shap\n",
      "Installing collected packages: shap\n",
      "Successfully installed shap-0.30.0\n"
     ]
    }
   ],
   "source": [
    "!pip install shap"
   ]
  },
  {
   "cell_type": "code",
   "execution_count": 0,
   "metadata": {
    "colab": {},
    "colab_type": "code",
    "id": "6TPLjbqKTKYn"
   },
   "outputs": [],
   "source": [
    "import shap"
   ]
  },
  {
   "cell_type": "code",
   "execution_count": 0,
   "metadata": {
    "colab": {},
    "colab_type": "code",
    "id": "FZaN6pMFTKo9"
   },
   "outputs": [],
   "source": [
    "explainerRF = shap.TreeExplainer(clf_best)\n",
    "shap_values_RF_test = explainerRF.shap_values(X_test)"
   ]
  },
  {
   "cell_type": "code",
   "execution_count": 45,
   "metadata": {
    "colab": {
     "base_uri": "https://localhost:8080/",
     "height": 476
    },
    "colab_type": "code",
    "id": "VaYj6_uRTKws",
    "outputId": "cb901d4b-9695-42ba-8614-957122494beb"
   },
   "outputs": [
    {
     "data": {
      "image/png": "[encoded data removed]",
      "text/plain": [
       "<Figure size 576x540 with 1 Axes>"
      ]
     },
     "metadata": {
      "tags": []
     },
     "output_type": "display_data"
    }
   ],
   "source": [
    " shap.summary_plot(shap_values_RF_test, X_test)"
   ]
  },
  {
   "cell_type": "code",
   "execution_count": 53,
   "metadata": {
    "colab": {
     "base_uri": "https://localhost:8080/",
     "height": 493
    },
    "colab_type": "code",
    "id": "PE24gy44TK4j",
    "outputId": "48cddbe4-8c26-4966-9352-100070d0669c"
   },
   "outputs": [
    {
     "data": {
      "image/png": "[encoded data removed]",
      "text/plain": [
       "<Figure size 576x540 with 2 Axes>"
      ]
     },
     "metadata": {
      "tags": []
     },
     "output_type": "display_data"
    }
   ],
   "source": [
    "shap.summary_plot(shap_values_RF_test[1], X_test)"
   ]
  },
  {
   "cell_type": "markdown",
   "metadata": {
    "colab_type": "text",
    "id": "qYj7O_vZPoPG"
   },
   "source": [
    "3. Briefly discuss how Ultimate might leverage the insights gained from the model to improve its long­ term rider retention (again, a few sentences will suffice). \n",
    "\n",
    "A.: This model shows that some factor influence the probability of a customer to be retained:\n",
    "- If a customer experienced surge tarifs frequently, he/she is less likely to be retained\n",
    "- Customers not rated or low rated by drivers tend to be retained\n",
    "- Customers that used the service predominantely during the weekdays tend to not be retained\n",
    "- King's Landing and ultimate_black_users tend to be retained\n",
    "- i-phone users tend to be retained\n",
    "\n",
    "The results indicates that price sensitiveness might be influencing the retention: customers that paid more in surge tend to not stay. Customer that are less price sensitive, who use the black service or are i-phone users (reputably an expensive produc) tend to be loyal.\n",
    "We also see more retention among the customers that make a casual usage of the services during the weekend. Customers that make frequent, and likely professional, usage during weekdays tend not to be retained."
   ]
  }
 ],
 "metadata": {
  "colab": {
   "collapsed_sections": [],
   "name": "Ulimate_challenge .ipynb",
   "provenance": [],
   "version": "0.3.2"
  },
  "kernelspec": {
   "display_name": "Python 3",
   "language": "python",
   "name": "python3"
  },
  "language_info": {
   "codemirror_mode": {
    "name": "ipython",
    "version": 3
   },
   "file_extension": ".py",
   "mimetype": "text/x-python",
   "name": "python",
   "nbconvert_exporter": "python",
   "pygments_lexer": "ipython3",
   "version": "3.7.3"
  }
 },
 "nbformat": 4,
 "nbformat_minor": 1
}
