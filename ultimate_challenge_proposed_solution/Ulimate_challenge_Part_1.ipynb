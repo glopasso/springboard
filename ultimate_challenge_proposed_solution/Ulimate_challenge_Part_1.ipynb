{
 "cells": [
  {
   "cell_type": "markdown",
   "metadata": {
    "colab_type": "text",
    "id": "zgcajD0WVM5h"
   },
   "source": [
    "# Preparation to work with Google Colab"
   ]
  },
  {
   "cell_type": "code",
   "execution_count": null,
   "metadata": {
    "colab": {
     "base_uri": "https://localhost:8080/",
     "height": 35
    },
    "colab_type": "code",
    "id": "zLaUrtvgBqpE",
    "outputId": "72229812-a70e-46a1-b8c1-4f6b8fcfcb33"
   },
   "outputs": [],
   "source": [
    "#Mount google drive as your hardisk\n",
    "from os.path import join\n",
    "from google.colab import drive\n",
    "\n",
    "ROOT = \"/content/drive\"\n",
    "drive.mount(ROOT)"
   ]
  },
  {
   "cell_type": "code",
   "execution_count": null,
   "metadata": {
    "colab": {},
    "colab_type": "code",
    "id": "anOBDIlHB2N1"
   },
   "outputs": [],
   "source": [
    "PROJECT_PATH = '/content/drive/My Drive/Springboard/Take_home_assignment_1/ultimate_challenge/'"
   ]
  },
  {
   "cell_type": "code",
   "execution_count": null,
   "metadata": {
    "colab": {},
    "colab_type": "code",
    "id": "nVhASLs1B55l"
   },
   "outputs": [],
   "source": [
    "import pandas as pd\n",
    "import numpy as np\n",
    "import matplotlib.pyplot as plt\n",
    "import re\n",
    "import time\n",
    "import pickle\n",
    "import json\n",
    "import urllib.request"
   ]
  },
  {
   "cell_type": "markdown",
   "metadata": {
    "colab_type": "text",
    "id": "Cz7iFIRpVoa2"
   },
   "source": [
    "# Part 1 ‐ Exploratory data analysis\n",
    "The attached logins.json file contains (simulated) timestamps of user logins in a particular\n",
    "geographic location. Aggregate these login counts based on 15­minute time intervals, and\n",
    "visualize and describe the resulting time series of login counts in ways that best characterize the\n",
    "underlying patterns of the demand. Please report/illustrate important features of the demand,\n",
    "such as daily cycles. If there are data quality issues, please report them."
   ]
  },
  {
   "cell_type": "code",
   "execution_count": null,
   "metadata": {
    "colab": {
     "base_uri": "https://localhost:8080/",
     "height": 55
    },
    "colab_type": "code",
    "id": "ZXwH50F2CZpA",
    "outputId": "41fefd69-4dd9-44bb-f5f2-77b315888214"
   },
   "outputs": [],
   "source": [
    "# load the login data\n",
    "FILE = 'logins.json'\n",
    "with open(PROJECT_PATH +  FILE) as json_file:\n",
    "    login_dict = json.load(json_file)\n",
    "    json_file.close()\n",
    "\n",
    "#print(login_dict)"
   ]
  },
  {
   "cell_type": "code",
   "execution_count": null,
   "metadata": {
    "colab": {},
    "colab_type": "code",
    "id": "VqJ0gd9PFDmj"
   },
   "outputs": [],
   "source": [
    "login_df = pd.DataFrame(login_dict)"
   ]
  },
  {
   "cell_type": "code",
   "execution_count": null,
   "metadata": {
    "colab": {
     "base_uri": "https://localhost:8080/",
     "height": 35
    },
    "colab_type": "code",
    "id": "n_IFA9bOMeXl",
    "outputId": "4c9fd536-fa43-4b0b-cf29-07a127c70f5d"
   },
   "outputs": [],
   "source": [
    "login_df.shape"
   ]
  },
  {
   "cell_type": "code",
   "execution_count": null,
   "metadata": {
    "colab": {},
    "colab_type": "code",
    "id": "aKJcaH-iMoxg"
   },
   "outputs": [],
   "source": [
    "login_df['login_time'] = pd.to_datetime(login_df['login_time'])"
   ]
  },
  {
   "cell_type": "code",
   "execution_count": null,
   "metadata": {
    "colab": {},
    "colab_type": "code",
    "id": "BwDN3LzxPZNf"
   },
   "outputs": [],
   "source": [
    "login_df.index = login_df['login_time']"
   ]
  },
  {
   "cell_type": "code",
   "execution_count": null,
   "metadata": {
    "colab": {},
    "colab_type": "code",
    "id": "TrUSrixrV8zr"
   },
   "outputs": [],
   "source": [
    "login_df_res = login_df.resample('15T').count()"
   ]
  },
  {
   "cell_type": "code",
   "execution_count": null,
   "metadata": {
    "colab": {
     "base_uri": "https://localhost:8080/",
     "height": 35
    },
    "colab_type": "code",
    "id": "ku9xbWxSV-9s",
    "outputId": "1b412354-5c9c-49e8-9799-0be3f6e2b53a"
   },
   "outputs": [],
   "source": [
    "login_df_res.shape"
   ]
  },
  {
   "cell_type": "code",
   "execution_count": null,
   "metadata": {
    "colab": {
     "base_uri": "https://localhost:8080/",
     "height": 235
    },
    "colab_type": "code",
    "id": "X3s4PrMJWJwj",
    "outputId": "0577c08d-f749-4a9e-8a17-ec01ba4051be"
   },
   "outputs": [],
   "source": [
    "login_df_res.head()"
   ]
  },
  {
   "cell_type": "code",
   "execution_count": null,
   "metadata": {
    "colab": {},
    "colab_type": "code",
    "id": "oakkGRPvOYfe"
   },
   "outputs": [],
   "source": [
    "login_df_res.columns = ['qty']\n",
    "login_df_res['year'] = login_df_res.index.year\n",
    "login_df_res['month'] = login_df_res.index.month\n",
    "login_df_res['day'] = login_df_res.index.day\n",
    "login_df_res['dayofweek'] = login_df_res.index.strftime('%A')\n",
    "login_df_res['hour'] = login_df_res.index.hour\n",
    "login_df_res['minute'] = login_df_res.index.minute"
   ]
  },
  {
   "cell_type": "code",
   "execution_count": null,
   "metadata": {
    "colab": {
     "base_uri": "https://localhost:8080/",
     "height": 235
    },
    "colab_type": "code",
    "id": "csaPAUUCPooR",
    "outputId": "1d4f455b-59f6-4e40-ba64-b47f3e978284"
   },
   "outputs": [],
   "source": [
    "login_df_res.head()"
   ]
  },
  {
   "cell_type": "code",
   "execution_count": null,
   "metadata": {
    "colab": {
     "base_uri": "https://localhost:8080/",
     "height": 35
    },
    "colab_type": "code",
    "id": "U3YXQ7kfF6Lf",
    "outputId": "f2fb37c1-18d7-4de5-d93b-394ef6e74da8"
   },
   "outputs": [],
   "source": [
    "login_df_res.qty.sum()"
   ]
  },
  {
   "cell_type": "code",
   "execution_count": null,
   "metadata": {
    "colab": {
     "base_uri": "https://localhost:8080/",
     "height": 235
    },
    "colab_type": "code",
    "id": "1lcvND6yMUeX",
    "outputId": "2f8d51d6-8793-48d7-c1ea-28cf102364fd"
   },
   "outputs": [],
   "source": [
    "login_df_res.describe().T"
   ]
  },
  {
   "cell_type": "code",
   "execution_count": null,
   "metadata": {
    "colab": {
     "base_uri": "https://localhost:8080/",
     "height": 111
    },
    "colab_type": "code",
    "id": "NgwwmQUZY1Cv",
    "outputId": "0aca5538-f915-40d6-c0fb-c046049567ce"
   },
   "outputs": [],
   "source": [
    "login_df_res.loc[login_df_res.qty == 73]"
   ]
  },
  {
   "cell_type": "code",
   "execution_count": null,
   "metadata": {
    "colab": {
     "base_uri": "https://localhost:8080/",
     "height": 417
    },
    "colab_type": "code",
    "id": "7vIXtaMlXee_",
    "outputId": "d3d90c04-8bdc-4cc1-efec-b5a0f1a1edce"
   },
   "outputs": [],
   "source": [
    "login_df_res['qty'].plot(alpha=0.5, \n",
    "                         style='-',\n",
    "                         figsize = (20,6))\n",
    "plt.legend(['quantity of logins'],\n",
    "           loc='upper left')\n",
    "plt.title('Complete time series of logins, 15 minutes intervals')\n",
    "plt.show()"
   ]
  },
  {
   "cell_type": "code",
   "execution_count": null,
   "metadata": {
    "colab": {
     "base_uri": "https://localhost:8080/",
     "height": 295
    },
    "colab_type": "code",
    "id": "YfOPFQSSUtd2",
    "outputId": "2493fe5e-5ffb-4a9b-b785-2e088a2a33c4"
   },
   "outputs": [],
   "source": [
    "# overall day pattern\n",
    "login_df_res.groupby(login_df_res.index.time)['qty'].mean().plot(alpha=0.5, \n",
    "                                              style='-',\n",
    "                                              figsize = (15,4))\n",
    "plt.legend(['quantity of logins'],\n",
    "           loc = 'best')\n",
    "plt.title('Average logins per day, 15 minutes intervals')\n",
    "plt.show()"
   ]
  },
  {
   "cell_type": "code",
   "execution_count": null,
   "metadata": {
    "colab": {
     "base_uri": "https://localhost:8080/",
     "height": 1000
    },
    "colab_type": "code",
    "id": "W4H4uO3ZTXZy",
    "outputId": "176f48be-f318-436e-ad32-ba8e0c5ca448"
   },
   "outputs": [],
   "source": [
    "days_of_week = ['Monday', 'Tuesday','Wednesday','Thursday', 'Friday', 'Saturday', 'Sunday']\n",
    "for d in days_of_week:\n",
    "    day_of_week = login_df_res.loc[login_df_res.dayofweek == d, 'qty']\n",
    "    day_of_week.groupby(day_of_week.index.time).mean().plot(alpha=0.5, \n",
    "                                                  style='-',\n",
    "                                                  figsize = (15,4),\n",
    "                                                  label = 'average logins, each 15 min')\n",
    "    plt.axhline(y=day_of_week.mean(), color='r', linestyle='--', label = 'Overall average')\n",
    "    plt.legend(loc = 'best')\n",
    "    plt.title('Average logins per day, 15 minutes intervals, for {}'.format(d))\n",
    "    plt.show()\n",
    "    print('Oveall average: {:.2f}'.format(day_of_week.mean()))"
   ]
  },
  {
   "cell_type": "code",
   "execution_count": null,
   "metadata": {
    "colab": {
     "base_uri": "https://localhost:8080/",
     "height": 417
    },
    "colab_type": "code",
    "id": "xd0tz8hWPCEa",
    "outputId": "0264e8c9-3220-418e-d42f-0728c1ccbba7"
   },
   "outputs": [],
   "source": [
    "daily = login_df_res['qty'].resample('D').sum()\n",
    "weekly = login_df_res['qty'].resample('W').sum()\n",
    "fig, (ax1, ax2) = plt.subplots(1, 2, figsize = (20,6))\n",
    "fig.suptitle('Resampling a different rates')\n",
    "ax1.plot(daily, alpha=0.5 )\n",
    "ax2.plot(weekly, alpha=0.5)\n",
    "ax1.set_title('Daily');\n",
    "ax2.set_title('Weekly');\n",
    "plt.show()"
   ]
  },
  {
   "cell_type": "markdown",
   "metadata": {
    "colab_type": "text",
    "id": "-LAOnNLgYHno"
   },
   "source": [
    "### Part 1: Summary of conclusions from exploratory analysis\n",
    "\n",
    "1. Login data ranges from Jan, 1st, 1970 up to Apr, 15th, 1970\n",
    "2. The year 1970, probably is wrong, or was disguised, because this time of service did not exist in 1970\n",
    "3. The average number of logins in a 15 interval is 9.51\n",
    "4. The maximum number of logins registered was 73, which happend on March, 01st at 4. 04:30, a Sunday\n",
    "5. Weekdays from Monday to Friday, have averge logins per 15 minutes ranging from 6 to 10, while during weekends this average goes up from 12 to 13\n",
    "6. Peek hours during weekdays happens near midday and also from 8 to 11 p.m., while during weekends the busy hours are late night (after 0 a.m. up to 4 a.m.)\n",
    "7. We verified more activity during March and April compared to January and February\n",
    "\n",
    "\n"
   ]
  }
 ],
 "metadata": {
  "colab": {
   "collapsed_sections": [],
   "name": "Ulimate_challenge .ipynb",
   "provenance": [],
   "version": "0.3.2"
  },
  "kernelspec": {
   "display_name": "Python 3",
   "language": "python",
   "name": "python3"
  },
  "language_info": {
   "codemirror_mode": {
    "name": "ipython",
    "version": 3
   },
   "file_extension": ".py",
   "mimetype": "text/x-python",
   "name": "python",
   "nbconvert_exporter": "python",
   "pygments_lexer": "ipython3",
   "version": "3.7.3"
  }
 },
 "nbformat": 4,
 "nbformat_minor": 1
}
